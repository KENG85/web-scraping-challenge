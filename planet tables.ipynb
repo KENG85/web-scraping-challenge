{
 "cells": [
  {
   "cell_type": "code",
   "execution_count": null,
   "metadata": {},
   "outputs": [],
   "source": [
    "#url = \"https://space-facts.com/mars/\"\n",
    "#browser.visit(url)\n",
    "#time.sleep(1)\n",
    "\n",
    "#html = browser.html\n",
    "#soup = BeautifulSoup(html, \"html.parser\")\n",
    "\n",
    "#fact_table = soup.find(\"table\",id=\"tablepress-p-mars-no-2\" ).get_text()\n",
    "\n",
    "#display_html(fact_title, raw=True)\n",
    "#pd.read_html(fact_title)\n",
    "#mars[\"Facts\"] = fact_table"
   ]
  },
  {
   "cell_type": "code",
   "execution_count": null,
   "metadata": {},
   "outputs": [],
   "source": [
    "#mars fact table 1\n",
    "#url = \"https://space-facts.com/mars/\"\n",
    "#planet_stats = pd.read_html(url)[0]\n",
    "#planet_stats.to_html(\"planet_stats.html\")\n",
    "#planet_stats.columns = [\"Description\", \"Values\"]\n",
    "#planet_stats.set_index(\"Description\", inplace=True)\n",
    "#planet_stats\n",
    "#mars[\"facts\"] = planet_stats.to_html()"
   ]
  },
  {
   "cell_type": "code",
   "execution_count": null,
   "metadata": {},
   "outputs": [],
   "source": [
    "#mars fact table 2\n",
    "#facts = requests.get(\"https://space-facts.com/mars/\")\n",
    "#planet_age = pd.read_html(facts.text)[1]\n",
    "#planet_age.to_html(\"planet_age.html\")"
   ]
  },
  {
   "cell_type": "code",
   "execution_count": null,
   "metadata": {},
   "outputs": [],
   "source": [
    "#mars fact table 3\n",
    "#facts = requests.get(\"https://space-facts.com/mars/\")\n",
    "#planet_comparison = pd.read_html(facts.text)[2]\n",
    "#planet_comparison.to_html('planet_comparison.html')"
   ]
  }
 ],
 "metadata": {
  "kernelspec": {
   "display_name": "Python 3",
   "language": "python",
   "name": "python3"
  },
  "language_info": {
   "codemirror_mode": {
    "name": "ipython",
    "version": 3
   },
   "file_extension": ".py",
   "mimetype": "text/x-python",
   "name": "python",
   "nbconvert_exporter": "python",
   "pygments_lexer": "ipython3",
   "version": "3.7.4"
  }
 },
 "nbformat": 4,
 "nbformat_minor": 2
}
