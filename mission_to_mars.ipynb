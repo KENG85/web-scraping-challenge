{
 "cells": [
  {
   "cell_type": "code",
   "execution_count": 6,
   "metadata": {},
   "outputs": [],
   "source": [
    "#!pip install splinter\n",
    "#!pip install IPython\n",
    "from splinter import Browser\n",
    "from bs4 import BeautifulSoup as bs, NavigableString as ns\n",
    "from IPython.display import display_html\n",
    "import pandas as pd\n",
    "import requests\n",
    "import time\n",
    "import re\n",
    "from sys import platform\n",
    "from urllib.parse import urlsplit\n",
    "from bs4 import BeautifulSoup \n",
    "import pandas as pd\n",
    "from pprint import pprint"
   ]
  },
  {
   "cell_type": "code",
   "execution_count": 7,
   "metadata": {},
   "outputs": [],
   "source": [
    "def init_Browser():\n",
    "    # @NOTE: Replace the path with your actual path to the chromedriver\n",
    "    executable_path = {\"executable_path\": \"/usr/local/bin/chromedriver\"}\n",
    "    return Browser(\"chrome\", **executable_path, headless=False)\n",
    "browser = init_Browser()\n",
    "mars = {}"
   ]
  },
  {
   "cell_type": "code",
   "execution_count": 8,
   "metadata": {},
   "outputs": [
    {
     "data": {
      "text/plain": [
       "{'Title': 'Mars Now',\n",
       " 'Description': 'A mission to investigate key questions about potential life on Mars. '}"
      ]
     },
     "execution_count": 8,
     "metadata": {},
     "output_type": "execute_result"
    }
   ],
   "source": [
    "\n",
    "\n",
    "url = \"https://mars.nasa.gov/news/\"\n",
    "\n",
    "browser.visit(url)\n",
    "\n",
    "html = browser.html\n",
    "soup = BeautifulSoup(html, \"html.parser\")\n",
    "\n",
    "mars[\"Title\"] = soup.find(\"div\", class_=\"content_title\").get_text()\n",
    "mars[\"Description\"] = soup.find(\"div\", class_=\"rollover_description_inner\").get_text()\n",
    "\n",
    "mars"
   ]
  },
  {
   "cell_type": "code",
   "execution_count": 9,
   "metadata": {},
   "outputs": [
    {
     "data": {
      "text/plain": [
       "{'Title': 'Mars Now',\n",
       " 'Description': 'A mission to investigate key questions about potential life on Mars. ',\n",
       " 'Featured_image': 'https://www.jpl.nasa.gov/spaceimages/images/largesize/PIA23170_hires.jpg'}"
      ]
     },
     "execution_count": 9,
     "metadata": {},
     "output_type": "execute_result"
    }
   ],
   "source": [
    "url = \"https://www.jpl.nasa.gov/spaceimages/?search=&category=Mars\"\n",
    "browser.visit(url)\n",
    "\n",
    "browser.find_by_id(\"full_image\").click()\n",
    "time.sleep(1)\n",
    "\n",
    "browser.links.find_by_partial_text(\"more info\").click()\n",
    "\n",
    "html = browser.html\n",
    "soup = BeautifulSoup(html, \"html.parser\")\n",
    "\n",
    "link = soup.find(\"figure\", class_=\"lede\")\n",
    "featured_image = \"https://www.jpl.nasa.gov\" + link.a.img[\"src\"]\n",
    "\n",
    "mars[\"Featured_image\"] = featured_image\n",
    "mars\n",
    "#link"
   ]
  },
  {
   "cell_type": "code",
   "execution_count": 10,
   "metadata": {},
   "outputs": [
    {
     "data": {
      "text/plain": [
       "{'Title': 'Mars Now',\n",
       " 'Description': 'A mission to investigate key questions about potential life on Mars. ',\n",
       " 'Featured_image': 'https://www.jpl.nasa.gov/spaceimages/images/largesize/PIA23170_hires.jpg',\n",
       " 'Weather': 'InSight sol 547 (2020-06-10) low -92.2ºC (-133.9ºF) high -1.0ºC (30.1ºF)\\nwinds from the SW at 4.5 m/s (10.0 mph) gusting to 14.2 m/s (31.9 mph)\\npressure at 7.40 hPa'}"
      ]
     },
     "execution_count": 10,
     "metadata": {},
     "output_type": "execute_result"
    }
   ],
   "source": [
    "url = \"https://twitter.com/marswxreport?lang=en\"\n",
    "browser.visit(url)\n",
    "time.sleep(1)\n",
    "\n",
    "\n",
    "html = browser.html\n",
    "soup = BeautifulSoup(html, \"html.parser\")\n",
    "\n",
    "weather = re.compile(r'sol')\n",
    "mars[\"Weather\"] = soup.find('span', text=weather).text\n",
    "mars"
   ]
  },
  {
   "cell_type": "code",
   "execution_count": 11,
   "metadata": {
    "scrolled": true
   },
   "outputs": [
    {
     "data": {
      "text/plain": [
       "{'Title': 'Mars Now',\n",
       " 'Description': 'A mission to investigate key questions about potential life on Mars. ',\n",
       " 'Featured_image': 'https://www.jpl.nasa.gov/spaceimages/images/largesize/PIA23170_hires.jpg',\n",
       " 'Weather': 'InSight sol 547 (2020-06-10) low -92.2ºC (-133.9ºF) high -1.0ºC (30.1ºF)\\nwinds from the SW at 4.5 m/s (10.0 mph) gusting to 14.2 m/s (31.9 mph)\\npressure at 7.40 hPa',\n",
       " 'Facts':                       0                              1\n",
       " 0  Equatorial Diameter:                       6,792 km\n",
       " 1       Polar Diameter:                       6,752 km\n",
       " 2                 Mass:  6.39 × 10^23 kg (0.11 Earths)\n",
       " 3                Moons:            2 (Phobos & Deimos)\n",
       " 4       Orbit Distance:       227,943,824 km (1.38 AU)\n",
       " 5         Orbit Period:           687 days (1.9 years)\n",
       " 6  Surface Temperature:                   -87 to -5 °C\n",
       " 7         First Record:              2nd millennium BC\n",
       " 8          Recorded By:           Egyptian astronomers}"
      ]
     },
     "execution_count": 11,
     "metadata": {},
     "output_type": "execute_result"
    }
   ],
   "source": [
    "url = \"https://space-facts.com/mars/\"\n",
    "\n",
    "mars[\"Facts\"] = pd.read_html(url)[0]\n",
    "\n",
    "mars"
   ]
  },
  {
   "cell_type": "code",
   "execution_count": 12,
   "metadata": {},
   "outputs": [
    {
     "name": "stdout",
     "output_type": "stream",
     "text": [
      "3\n"
     ]
    }
   ],
   "source": [
    "url = \"https://astrogeology.usgs.gov/search/results?q=hemisphere+enhanced&k1=target&v1=Mars\"\n",
    "resp = requests.get(url)\n",
    "soup = BeautifulSoup(resp.text, \"html.parser\")\n",
    "\n",
    "title = soup.find_all('h3')\n",
    "print(len(link))\n",
    "#print(link[0]['href'])"
   ]
  },
  {
   "cell_type": "code",
   "execution_count": 13,
   "metadata": {},
   "outputs": [
    {
     "name": "stderr",
     "output_type": "stream",
     "text": [
      "/Users/kateengard/opt/anaconda3/lib/python3.7/site-packages/splinter/driver/webdriver/__init__.py:536: FutureWarning: browser.find_link_by_text is deprecated. Use browser.links.find_by_text instead.\n",
      "  FutureWarning,\n"
     ]
    },
    {
     "data": {
      "text/plain": [
       "[{'Title': 'Cerberus Hemisphere Enhanced',\n",
       "  'Img_url': 'https://astropedia.astrogeology.usgs.gov/download/Mars/Viking/cerberus_enhanced.tif/full.jpg'},\n",
       " {'Title': 'Schiaparelli Hemisphere Enhanced',\n",
       "  'Img_url': 'https://astropedia.astrogeology.usgs.gov/download/Mars/Viking/schiaparelli_enhanced.tif/full.jpg'},\n",
       " {'Title': 'Syrtis Major Hemisphere Enhanced',\n",
       "  'Img_url': 'https://astropedia.astrogeology.usgs.gov/download/Mars/Viking/syrtis_major_enhanced.tif/full.jpg'},\n",
       " {'Title': 'Valles Marineris Hemisphere Enhanced',\n",
       "  'Img_url': 'https://astropedia.astrogeology.usgs.gov/download/Mars/Viking/valles_marineris_enhanced.tif/full.jpg'}]"
      ]
     },
     "execution_count": 13,
     "metadata": {},
     "output_type": "execute_result"
    }
   ],
   "source": [
    "url = \"https://astrogeology.usgs.gov/search/results?q=hemisphere+enhanced&k1=target&v1=Mars\"\n",
    "browser.visit(url)\n",
    "\n",
    "link = browser.find_by_css(\"a.product-item h3\")\n",
    "hemisphere_img = []\n",
    "#image_url = {}\n",
    "\n",
    "for x in range(len(link)):   \n",
    "    image_url = {}\n",
    "    browser.find_by_css(\"a.product-item h3\")[x].click()\n",
    "    #link = soup.find_all('a', class_=\"itemLink product-item\")\n",
    "    sample = browser.find_link_by_text('Sample').first\n",
    "    #hemisphere_img[\"Img_url\"] = sample['href']\n",
    "   \n",
    "    image_url[\"Title\"] =  browser.find_by_css(\"h2.title\").text\n",
    "    image_url[\"Img_url\"] = sample['href']\n",
    "    hemisphere_img.append(image_url)\n",
    "    browser.back()\n",
    "        \n",
    "#hemisphere_img\n",
    "hemisphere_img"
   ]
  },
  {
   "cell_type": "code",
   "execution_count": 14,
   "metadata": {
    "scrolled": false
   },
   "outputs": [
    {
     "data": {
      "text/plain": [
       "{'Title': 'Mars Now',\n",
       " 'Description': 'A mission to investigate key questions about potential life on Mars. ',\n",
       " 'Featured_image': 'https://www.jpl.nasa.gov/spaceimages/images/largesize/PIA23170_hires.jpg',\n",
       " 'Weather': 'InSight sol 547 (2020-06-10) low -92.2ºC (-133.9ºF) high -1.0ºC (30.1ºF)\\nwinds from the SW at 4.5 m/s (10.0 mph) gusting to 14.2 m/s (31.9 mph)\\npressure at 7.40 hPa',\n",
       " 'Facts':                       0                              1\n",
       " 0  Equatorial Diameter:                       6,792 km\n",
       " 1       Polar Diameter:                       6,752 km\n",
       " 2                 Mass:  6.39 × 10^23 kg (0.11 Earths)\n",
       " 3                Moons:            2 (Phobos & Deimos)\n",
       " 4       Orbit Distance:       227,943,824 km (1.38 AU)\n",
       " 5         Orbit Period:           687 days (1.9 years)\n",
       " 6  Surface Temperature:                   -87 to -5 °C\n",
       " 7         First Record:              2nd millennium BC\n",
       " 8          Recorded By:           Egyptian astronomers,\n",
       " 'Hemisphere': [{'Title': 'Cerberus Hemisphere Enhanced',\n",
       "   'Img_url': 'https://astropedia.astrogeology.usgs.gov/download/Mars/Viking/cerberus_enhanced.tif/full.jpg'},\n",
       "  {'Title': 'Schiaparelli Hemisphere Enhanced',\n",
       "   'Img_url': 'https://astropedia.astrogeology.usgs.gov/download/Mars/Viking/schiaparelli_enhanced.tif/full.jpg'},\n",
       "  {'Title': 'Syrtis Major Hemisphere Enhanced',\n",
       "   'Img_url': 'https://astropedia.astrogeology.usgs.gov/download/Mars/Viking/syrtis_major_enhanced.tif/full.jpg'},\n",
       "  {'Title': 'Valles Marineris Hemisphere Enhanced',\n",
       "   'Img_url': 'https://astropedia.astrogeology.usgs.gov/download/Mars/Viking/valles_marineris_enhanced.tif/full.jpg'}]}"
      ]
     },
     "execution_count": 14,
     "metadata": {},
     "output_type": "execute_result"
    }
   ],
   "source": [
    "mars[\"Hemisphere\"] = hemisphere_img\n",
    "mars"
   ]
  },
  {
   "cell_type": "code",
   "execution_count": null,
   "metadata": {},
   "outputs": [],
   "source": []
  },
  {
   "cell_type": "code",
   "execution_count": null,
   "metadata": {},
   "outputs": [],
   "source": []
  }
 ],
 "metadata": {
  "kernelspec": {
   "display_name": "Python 3",
   "language": "python",
   "name": "python3"
  },
  "language_info": {
   "codemirror_mode": {
    "name": "ipython",
    "version": 3
   },
   "file_extension": ".py",
   "mimetype": "text/x-python",
   "name": "python",
   "nbconvert_exporter": "python",
   "pygments_lexer": "ipython3",
   "version": "3.7.4"
  }
 },
 "nbformat": 4,
 "nbformat_minor": 2
}
