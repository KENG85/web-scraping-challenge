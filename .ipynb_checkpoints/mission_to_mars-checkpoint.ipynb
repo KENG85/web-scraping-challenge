{
 "cells": [
  {
   "cell_type": "code",
   "execution_count": 1,
   "metadata": {},
   "outputs": [],
   "source": [
    "#!pip install splinter\n",
    "#!pip install IPython\n",
    "from splinter import Browser\n",
    "from bs4 import BeautifulSoup as bs, NavigableString as ns\n",
    "from IPython.display import display_html\n",
    "import pandas as pd\n",
    "import requests\n",
    "import time\n",
    "import re\n",
    "from sys import platform\n",
    "from urllib.parse import urlsplit\n",
    "from bs4 import BeautifulSoup \n",
    "import pandas as pd\n",
    "from pprint import pprint"
   ]
  },
  {
   "cell_type": "code",
   "execution_count": 2,
   "metadata": {},
   "outputs": [],
   "source": [
    "def init_Browser():\n",
    "    # @NOTE: Replace the path with your actual path to the chromedriver\n",
    "    executable_path = {\"executable_path\": \"/usr/local/bin/chromedriver\"}\n",
    "    return Browser(\"chrome\", **executable_path, headless=False)\n",
    "browser = init_Browser()\n",
    "mars = {}"
   ]
  },
  {
   "cell_type": "code",
   "execution_count": 3,
   "metadata": {},
   "outputs": [
    {
     "data": {
      "text/plain": [
       "{'Title': 'Mars Now',\n",
       " 'Description': 'A mission to investigate key questions about potential life on Mars. '}"
      ]
     },
     "execution_count": 3,
     "metadata": {},
     "output_type": "execute_result"
    }
   ],
   "source": [
    "\n",
    "\n",
    "url = \"https://mars.nasa.gov/news/\"\n",
    "\n",
    "browser.visit(url)\n",
    "\n",
    "html = browser.html\n",
    "soup = BeautifulSoup(html, \"html.parser\")\n",
    "\n",
    "mars[\"Title\"] = soup.find(\"div\", class_=\"content_title\").get_text()\n",
    "mars[\"Description\"] = soup.find(\"div\", class_=\"rollover_description_inner\").get_text()\n",
    "\n",
    "mars"
   ]
  },
  {
   "cell_type": "code",
   "execution_count": null,
   "metadata": {},
   "outputs": [],
   "source": [
    "url = \"https://www.jpl.nasa.gov/spaceimages/?search=&category=Mars\"\n",
    "browser.visit(url)\n",
    "\n",
    "browser.find_by_id(\"full_image\").click()\n",
    "time.sleep(1)\n",
    "\n",
    "browser.links.find_by_partial_text(\"more info\").click()\n",
    "\n",
    "html = browser.html\n",
    "soup = BeautifulSoup(html, \"html.parser\")\n",
    "\n",
    "link = soup.find(\"figure\", class_=\"lede\")\n",
    "featured_image = \"https://www.jpl.nasa.gov\" + link.a.img[\"src\"]\n",
    "\n",
    "mars[\"Featured_image\"] = featured_image\n",
    "mars\n",
    "#link"
   ]
  },
  {
   "cell_type": "code",
   "execution_count": null,
   "metadata": {},
   "outputs": [],
   "source": [
    "url = \"https://twitter.com/marswxreport?lang=en\"\n",
    "browser.visit(url)\n",
    "time.sleep(1)\n",
    "\n",
    "\n",
    "html = browser.html\n",
    "soup = BeautifulSoup(html, \"html.parser\")\n",
    "\n",
    "weather = re.compile(r'sol')\n",
    "mars[\"Weather\"] = soup.find('span', text=weather).text\n",
    "mars"
   ]
  },
  {
   "cell_type": "code",
   "execution_count": null,
   "metadata": {
    "scrolled": true
   },
   "outputs": [],
   "source": [
    "url = \"https://space-facts.com/mars/\"\n",
    "\n",
    "mars[\"Facts\"] = pd.read_html(url)[0]\n",
    "\n",
    "mars"
   ]
  },
  {
   "cell_type": "code",
   "execution_count": null,
   "metadata": {},
   "outputs": [],
   "source": [
    "url = \"https://astrogeology.usgs.gov/search/results?q=hemisphere+enhanced&k1=target&v1=Mars\"\n",
    "resp = requests.get(url)\n",
    "soup = BeautifulSoup(resp.text, \"html.parser\")\n",
    "\n",
    "title = soup.find_all('h3')\n",
    "print(len(link))\n",
    "#print(link[0]['href'])"
   ]
  },
  {
   "cell_type": "code",
   "execution_count": null,
   "metadata": {},
   "outputs": [],
   "source": [
    "url = \"https://astrogeology.usgs.gov/search/results?q=hemisphere+enhanced&k1=target&v1=Mars\"\n",
    "browser.visit(url)\n",
    "\n",
    "link = browser.find_by_css(\"a.product-item h3\")\n",
    "hemisphere_img = []\n",
    "#image_url = {}\n",
    "\n",
    "for x in range(len(link)):   \n",
    "    image_url = {}\n",
    "    browser.find_by_css(\"a.product-item h3\")[x].click()\n",
    "    #link = soup.find_all('a', class_=\"itemLink product-item\")\n",
    "    sample = browser.find_link_by_text('Sample').first\n",
    "    #hemisphere_img[\"Img_url\"] = sample['href']\n",
    "   \n",
    "    image_url[\"Title\"] =  browser.find_by_css(\"h2.title\").text\n",
    "    image_url[\"Img_url\"] = sample['href']\n",
    "    hemisphere_img.append(image_url)\n",
    "    browser.back()\n",
    "        \n",
    "#hemisphere_img\n",
    "hemisphere_img"
   ]
  },
  {
   "cell_type": "code",
   "execution_count": null,
   "metadata": {
    "scrolled": false
   },
   "outputs": [],
   "source": [
    "mars[\"Hemisphere\"] = hemisphere_img\n",
    "mars"
   ]
  },
  {
   "cell_type": "code",
   "execution_count": null,
   "metadata": {},
   "outputs": [],
   "source": []
  },
  {
   "cell_type": "code",
   "execution_count": null,
   "metadata": {},
   "outputs": [],
   "source": []
  }
 ],
 "metadata": {
  "kernelspec": {
   "display_name": "Python 3",
   "language": "python",
   "name": "python3"
  },
  "language_info": {
   "codemirror_mode": {
    "name": "ipython",
    "version": 3
   },
   "file_extension": ".py",
   "mimetype": "text/x-python",
   "name": "python",
   "nbconvert_exporter": "python",
   "pygments_lexer": "ipython3",
   "version": "3.7.4"
  }
 },
 "nbformat": 4,
 "nbformat_minor": 2
}
